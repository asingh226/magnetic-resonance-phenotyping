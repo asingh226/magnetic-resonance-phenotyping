{
 "cells": [
  {
   "cell_type": "markdown",
   "id": "991e8996-aa09-4b2b-a74a-a5706dc64070",
   "metadata": {},
   "source": [
    "# Radiomics Processing Functions"
   ]
  },
  {
   "cell_type": "markdown",
   "id": "8898af70-51a0-4787-810c-242d8c978b2b",
   "metadata": {},
   "source": [
    "## import libraries"
   ]
  },
  {
   "cell_type": "code",
   "execution_count": 4,
   "id": "67b4da2a-cc62-4613-8da1-685d5b5e912f",
   "metadata": {},
   "outputs": [],
   "source": [
    "\n",
    "# import header from the pyradiomics helloPyradiomics notebook\n",
    "from __future__ import print_function\n",
    "import sys\n",
    "import os\n",
    "import logging\n",
    "import six\n",
    "from radiomics import featureextractor, getFeatureClasses\n",
    "import radiomics\n",
    "import pandas as pd\n",
    "import time\n"
   ]
  },
  {
   "cell_type": "markdown",
   "id": "009f3c1c-5c71-4108-b677-b4a3ef45e750",
   "metadata": {},
   "source": [
    "## create_directories"
   ]
  },
  {
   "cell_type": "code",
   "execution_count": 5,
   "id": "64273ea7-cc48-479c-a05a-9a000c2dfd18",
   "metadata": {
    "tags": []
   },
   "outputs": [],
   "source": [
    "## Function to check/create directory structure for a radiomics analysis/MRP project\n",
    "\n",
    "# parent_directory (str) - location of parent directory to produce subdirectories in\n",
    "# paramType, imageType (str) - name of parameter and image to create subdirectories for\n",
    "# roi_list (array) - array of region of interests to create subdirectories for \n",
    "def create_directories(parent_directory, paramType, imageType,roi_list):\n",
    "    ## list of folders needed to be created\n",
    "    directories_needed = ['images', 'parameters', 'notebooks', 'roi', 'radiomics_data']\n",
    "    \n",
    "    ## check and if not there, create directory\n",
    "    for d in directories_needed:\n",
    "        d_directory = os.path.join(parent_directory, d)\n",
    "        if not os.path.exists(d_directory):\n",
    "            os.makedirs(d_directory)\n",
    "            \n",
    "    param_directories_needed = [paramType]\n",
    "    \n",
    "    for d in param_directories_needed:\n",
    "        d_directory = os.path.join(parent_directory, 'radiomics_data', d)\n",
    "        if not os.path.exists(d_directory):\n",
    "            os.makedirs(d_directory)\n",
    "            \n",
    "    imaging_directories_needed = [imageType]\n",
    "    \n",
    "    for d in imaging_directories_needed:\n",
    "        d_directory = os.path.join(parent_directory, 'radiomics_data', paramType, d)\n",
    "        if not os.path.exists(d_directory):\n",
    "            os.makedirs(d_directory)\n",
    "            \n",
    "        roi_directories_needed = roi_list\n",
    "    \n",
    "        for r in roi_directories_needed:\n",
    "            r_directory = os.path.join(parent_directory, 'radiomics_data', paramType, d, r)\n",
    "            if not os.path.exists(r_directory):\n",
    "                os.makedirs(r_directory)\n",
    "                \n",
    "            analysis_directories_needed = ['PyRadiomics_raw_data', 'comparisons']\n",
    "            \n",
    "            for a in analysis_directories_needed:\n",
    "                a_directory = os.path.join(parent_directory, 'radiomics_data', paramType, d, r, a)\n",
    "                if not os.path.exists(a_directory):\n",
    "                    os.makedirs(a_directory)"
   ]
  },
  {
   "cell_type": "markdown",
   "id": "d51d054c-c719-497c-a47d-297058dcbe57",
   "metadata": {},
   "source": [
    "## imageBatchProcess"
   ]
  },
  {
   "cell_type": "code",
   "execution_count": 6,
   "id": "f202b155-f613-4188-8c15-e44d73cdef2d",
   "metadata": {},
   "outputs": [],
   "source": [
    "# uses batchprocess fromm YuLabbatchProcessingwithPandas.py\n",
    "# located in python_functions folder\n",
    "from python_functions.YuLabbatchProcessingWithPandas import main as batchprocess\n",
    "\n",
    "# full_image_directory (str) - path to  image directory to be analyzed\n",
    "# output_file_name (str) - name for output file\n",
    "# full_roi_mask_directory (str) - path to directory for all ROIs to be analyzed\n",
    "# image_type (str) - image type to be analyzed\n",
    "# roi (str) - specific region of interest to be analyzed\n",
    "# param_type (str) - specific name of parameter file to use for radiomics analysis\n",
    "# parameterPath (str) - path and name of .yaml file of the parameter file\n",
    "# radiomics_data_folder (str) - location to save radiomics data .csv files (default = 'radiomics_data') --- we reccommend creating radiomic data files for each animal analyzed\n",
    "\n",
    "def imageBatchProcess(full_image_directory, output_file_name, full_roi_mask_directory, image_type, roi, param_type, parameterPath, radiomics_data_folder='radiomics_data'):\n",
    "\n",
    "    # create the paths to the images to be analyzed\n",
    "    subjectPath = full_image_directory +'/'\n",
    "    \n",
    "    # create list of items in image directory \n",
    "    subjectFiles = os.listdir(subjectPath)\n",
    "    #selects files in direcotry that are type '.nii.gz' only \n",
    "    imageFiles = [f for f in subjectFiles if '.nii.gz' in f]\n",
    "    \n",
    "    # create imagePath for each image \n",
    "    imagePath = [subjectPath+i for i in imageFiles]\n",
    "\n",
    "    # create the paths to the roi masks to be analyzed\n",
    "    roiPath = full_roi_mask_directory + '/' + roi +'/'\n",
    "    # get list of roiMasks in the roiDirectory\n",
    "    roiFiles = os.listdir(roiPath)\n",
    "    # create same roiPath for every image in the directory (essentially pairs each image with the same ROI to ensure that all are tested)\n",
    "    # this is a necessity for how the batchProcess is performed using the fileDataFrame.csv\n",
    "    maskPath = [roiPath + r for r in roiFiles] * len(imagePath) # odd way of determining length to do same ROI on every image\n",
    "\n",
    "    #create a dataframe containing the filenames, imagepaths, and maskpaths \n",
    "    filePaths = {'filename':imageFiles, 'Image':imagePath, 'Mask':maskPath}\n",
    "    fileDataFrame = pd.DataFrame(data=filePaths).set_index('filename')\n",
    "\n",
    "    #create a .csv that can be used to allow batchprocess to find the image and mask files efficiently; saves in directory in which this function is run\n",
    "    fileDataFrame.to_csv('fileDataFrame.csv')\n",
    "    \n",
    "    # run batchprocess, produces .csv files of the radomics data; function defined in YuLabbatchProcesssingWithPandas.py\n",
    "    batchprocess('fileDataFrame.csv', output_file_name, roi ,output_file_name+'_log', parameterPath, param_type, image_type, radiomics_data_folder)"
   ]
  },
  {
   "cell_type": "markdown",
   "id": "af353b90-173b-4d12-a833-dd4be1930bd1",
   "metadata": {},
   "source": [
    "# Example radiomic directory set up and processing"
   ]
  },
  {
   "cell_type": "code",
   "execution_count": 7,
   "id": "6d1ec996-5b34-46a7-8aa0-7c8f2d27d08d",
   "metadata": {
    "id": "personal-brooks"
   },
   "outputs": [],
   "source": [
    "roi_list = ['r_amygdala','r_hippocampus','r_globus_pallidus_caudate_putamen', 'l_amygdala','l_hippocampus','l_globus_pallidus_caudate_putamen' ]\n",
    "param_type = [ 'binWidth_0_05', 'binWidth_0_075',  \n",
    "              'binWidth_0_1', 'binWidth_0_25',\n",
    "              'binWidth_0_5','binWidth_1']\n",
    "image_type = ['NDI', 'ODI','vISO']"
   ]
  },
  {
   "cell_type": "code",
   "execution_count": 8,
   "id": "1ba6be20-967a-46c1-8f2b-77778f999fb6",
   "metadata": {},
   "outputs": [],
   "source": [
    "\n",
    "## I run this once to create a radiomics_data directory and then duplicate and rename that directory for each animal type i am analyzing\n",
    "\n",
    "# use one directory back as the parent directory in which to produce all new directories\n",
    "new_parent_directory = os.path.join('..')\n",
    "for p in param_type:\n",
    "    for i in image_type:\n",
    "        create_directories(new_parent_directory, p, i, roi_list)"
   ]
  },
  {
   "cell_type": "code",
   "execution_count": 9,
   "id": "b8a90496-c05e-4a14-abe7-982f65deb873",
   "metadata": {},
   "outputs": [],
   "source": [
    "roi_list = ['r_amygdala','r_hippocampus','r_globus_pallidus_caudate_putamen', \n",
    "            'l_amygdala','l_hippocampus','l_globus_pallidus_caudate_putamen' ]\n",
    "\n",
    "imageDirectory = 'images'\n",
    "\n",
    "roiDirectory = '../roi'\n",
    "\n",
    "paramType = [ 'binWidth_0_05', 'binWidth_0_075',  \n",
    "              'binWidth_0_1', 'binWidth_0_25',\n",
    "              'binWidth_0_5','binWidth_1']\n",
    "imageType = ['NDI','ODI','vISO']\n",
    "sexes = ['male']\n",
    "days = ['P45']\n",
    "animals = ['control','nrxn']\n",
    "radiomics_folders = [\"_\".join(['radiomics_data',animal]) for animal in animals]\n"
   ]
  },
  {
   "cell_type": "code",
   "execution_count": null,
   "id": "2d5c7211-6737-42a6-a51a-a3debb87ab10",
   "metadata": {
    "tags": []
   },
   "outputs": [],
   "source": [
    "# using for loops, create the paths to the image directories to be passed into the imageBatchProcess function \n",
    "\n",
    "# time the batchprocess \n",
    "tic = time.perf_counter()\n",
    "\n",
    "# establish a list to store the timing info for each run of the imageBatchProcess\n",
    "timeDictList = [] \n",
    "\n",
    "for p in paramType: \n",
    "    # find parameters file to be used \n",
    "    paramPath = os.path.join('..', 'parameters', '_'.join(['Params',p])+'.yaml')\n",
    "    print(p)\n",
    "    for image in imageType:\n",
    "        print(image)\n",
    "        for sex in sexes:\n",
    "            print(sex)\n",
    "            for day in days:\n",
    "                print(day)\n",
    "                for animal, folder in zip(animals,radiomics_folders):\n",
    "                    print(animal)\n",
    "                    output_file_name  = \"_\".join([p,image,sex,day,animal])\n",
    "                    print(output_file_name)\n",
    "                    full_image_path = os.path.join(\"..\",imageDirectory,image,sex,day, animal)\n",
    "                    print(full_image_path)\n",
    "                    print(p)\n",
    "                    for roi in roi_list:\n",
    "                        print(roi)\n",
    "                        # time imageBatchProcess\n",
    "                        t0 = time.time()\n",
    "                        imageBatchProcess(full_image_path, output_file_name, \n",
    "                                          roiDirectory, image, roi, p, paramPath, folder)\n",
    "                        t1 = time.time()\n",
    "                        total = t1-t0\n",
    "\n",
    "                        print('Runtime: '+str(total/60) + ' minutes')\n",
    "\n",
    "                        # save runtime information for each imageBatchProcess (this list can be converted easily to a pandas dataframe to analyze speed of processing more closely)\n",
    "                        timeDictList.append({\"imageType\":image, \"parameter\":p,'roi':roi,'animal':animal, \n",
    "                                             'time':total})\n",
    "\n",
    "\n",
    "\n",
    "toc = time.perf_counter()\n"
   ]
  }
 ],
 "metadata": {
  "kernelspec": {
   "display_name": "Python 3",
   "language": "python",
   "name": "python3"
  },
  "language_info": {
   "codemirror_mode": {
    "name": "ipython",
    "version": 3
   },
   "file_extension": ".py",
   "mimetype": "text/x-python",
   "name": "python",
   "nbconvert_exporter": "python",
   "pygments_lexer": "ipython3",
   "version": "3.8.8"
  }
 },
 "nbformat": 4,
 "nbformat_minor": 5
}
